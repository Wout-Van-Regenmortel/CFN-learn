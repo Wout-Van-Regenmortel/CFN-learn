{
 "cells": [
  {
   "cell_type": "code",
   "execution_count": 2,
   "id": "ahead-monroe",
   "metadata": {},
   "outputs": [],
   "source": [
    "%load_ext autoreload\n",
    "%autoreload 2\n",
    "import numpy as np\n",
    "import json\n",
    "from cpmpy import * # pip3 install cpmpy\n",
    "from cpmpy.solvers import CPM_ortools"
   ]
  },
  {
   "cell_type": "code",
   "execution_count": 3,
   "id": "numerical-vault",
   "metadata": {},
   "outputs": [],
   "source": [
    "# Notebook to make magic square problems/instance"
   ]
  },
  {
   "cell_type": "code",
   "execution_count": 4,
   "id": "naughty-coordinate",
   "metadata": {},
   "outputs": [],
   "source": [
    "# latin square has rows/cols permutations (alldifferent)\n",
    "def latin_sq(square):\n",
    "        return [[AllDifferent(row) for row in square],\n",
    "                [AllDifferent(col) for col in square.T]]"
   ]
  },
  {
   "cell_type": "code",
   "execution_count": 7,
   "id": "classical-region",
   "metadata": {},
   "outputs": [
    {
     "data": {
      "text/plain": [
       "Constraints:\n",
       "    [alldifferent(IV16,IV17,IV18,IV19), alldifferent(IV20,IV21,IV22,IV23), alldifferent(IV24,IV25,IV26,IV27), alldifferent(IV28,IV29,IV30,IV31)]\n",
       "    [alldifferent(IV16,IV20,IV24,IV28), alldifferent(IV17,IV21,IV25,IV29), alldifferent(IV18,IV22,IV26,IV30), alldifferent(IV19,IV23,IV27,IV31)]\n",
       "Objective: None"
      ]
     },
     "execution_count": 7,
     "metadata": {},
     "output_type": "execute_result"
    }
   ],
   "source": [
    "def model_latin_sq(N):\n",
    "    square = intvar(1,N, shape=(N,N))\n",
    "    return square, Model(latin_sq(square))\n",
    "(square,m) = model_latin_sq(4)\n",
    "m"
   ]
  },
  {
   "cell_type": "code",
   "execution_count": 8,
   "id": "opposed-president",
   "metadata": {},
   "outputs": [
    {
     "name": "stdout",
     "output_type": "stream",
     "text": [
      "[[2 3 4 1]\n",
      " [1 4 2 3]\n",
      " [4 1 3 2]\n",
      " [3 2 1 4]]\n"
     ]
    }
   ],
   "source": [
    "m.solve()\n",
    "print(square.value())"
   ]
  },
  {
   "cell_type": "code",
   "execution_count": 9,
   "id": "needed-washer",
   "metadata": {},
   "outputs": [
    {
     "data": {
      "text/plain": [
       "576"
      ]
     },
     "execution_count": 9,
     "metadata": {},
     "output_type": "execute_result"
    }
   ],
   "source": [
    "m.solveAll()"
   ]
  },
  {
   "cell_type": "code",
   "execution_count": 10,
   "id": "chief-march",
   "metadata": {},
   "outputs": [
    {
     "data": {
      "text/plain": [
       "array([[2, 3, 1, 4],\n",
       "       [4, 3, 1, 3],\n",
       "       [1, 3, 3, 3],\n",
       "       [4, 1, 1, 2]])"
      ]
     },
     "execution_count": 10,
     "metadata": {},
     "output_type": "execute_result"
    }
   ],
   "source": [
    "N=4\n",
    "np.random.randint(1,N+1, size=(N,N))"
   ]
  },
  {
   "cell_type": "code",
   "execution_count": null,
   "id": "acting-plain",
   "metadata": {},
   "outputs": [],
   "source": []
  },
  {
   "cell_type": "code",
   "execution_count": 13,
   "id": "respected-aviation",
   "metadata": {},
   "outputs": [
    {
     "data": {
      "text/plain": [
       "{'problemType': 'type01',\n",
       " 'instance': 0,\n",
       " 'size': 4,\n",
       " 'formatTemplate': {'square': [[{'high': 4, 'low': 1, 'type': 'dvar'},\n",
       "    {'high': 4, 'low': 1, 'type': 'dvar'},\n",
       "    {'high': 4, 'low': 1, 'type': 'dvar'},\n",
       "    {'high': 4, 'low': 1, 'type': 'dvar'}],\n",
       "   [{'high': 4, 'low': 1, 'type': 'dvar'},\n",
       "    {'high': 4, 'low': 1, 'type': 'dvar'},\n",
       "    {'high': 4, 'low': 1, 'type': 'dvar'},\n",
       "    {'high': 4, 'low': 1, 'type': 'dvar'}],\n",
       "   [{'high': 4, 'low': 1, 'type': 'dvar'},\n",
       "    {'high': 4, 'low': 1, 'type': 'dvar'},\n",
       "    {'high': 4, 'low': 1, 'type': 'dvar'},\n",
       "    {'high': 4, 'low': 1, 'type': 'dvar'}],\n",
       "   [{'high': 4, 'low': 1, 'type': 'dvar'},\n",
       "    {'high': 4, 'low': 1, 'type': 'dvar'},\n",
       "    {'high': 4, 'low': 1, 'type': 'dvar'},\n",
       "    {'high': 4, 'low': 1, 'type': 'dvar'}]]},\n",
       " 'tests': [],\n",
       " 'solutions': [{'square': [[2, 3, 4, 1],\n",
       "    [1, 4, 2, 3],\n",
       "    [4, 1, 3, 2],\n",
       "    [3, 2, 1, 4]]}],\n",
       " 'nonSolutions': [{'square': [[4, 3, 4, 4],\n",
       "    [1, 2, 2, 2],\n",
       "    [1, 2, 1, 1],\n",
       "    [1, 2, 1, 1]]}]}"
      ]
     },
     "execution_count": 13,
     "metadata": {},
     "output_type": "execute_result"
    }
   ],
   "source": [
    "def make_inst(N, i, pos=200, neg=200):\n",
    "    binData = dict()\n",
    "    binData['problemType'] = 'type01'\n",
    "    binData['instance'] = i\n",
    "    binData['size'] = N\n",
    "    binData['formatTemplate'] = dict()\n",
    "    # N*N boolvars\n",
    "    binData['formatTemplate']['square'] = [[dict([('high',N), ('low',1), ('type','dvar')])]*N ]*N\n",
    "    binData['tests'] = []\n",
    "    \n",
    "    binData['solutions'] = []\n",
    "    binData['nonSolutions'] = []\n",
    "    \n",
    "    # nonSolutions, uniformly\n",
    "    (square,m) = model_latin_sq(N)\n",
    "    while len(binData['nonSolutions']) < neg:\n",
    "        s = SolverLookup.get(\"ortools\", m)\n",
    "        # get random assignment\n",
    "        rand = np.random.randint(1,N+1, size=(N,N))\n",
    "        s += [square == rand]\n",
    "        # I make the same error here, that they need not be unique...\n",
    "        if s.solve():\n",
    "            binData['solutions'].append(dict([('square', rand.tolist())]))\n",
    "        else:\n",
    "            binData['nonSolutions'].append(dict([('square', rand.tolist())]))\n",
    "\n",
    "    # solutions, uniformly guided, unique\n",
    "    s = SolverLookup.get(\"ortools\", m)\n",
    "    while len(binData['solutions']) < pos:\n",
    "        # get random assignment\n",
    "        rand = np.random.randint(1,N+1, size=(N,N))\n",
    "        s.solution_hint(square.flatten(), rand.flatten())\n",
    "        s.solve()\n",
    "        binData['solutions'].append(dict([('square', square.value().tolist())]))\n",
    "        s += any(square != rand)\n",
    "    \n",
    "    return binData\n",
    "\n",
    "N=4\n",
    "make_inst(N, 0, N*1/4, N*1/4)"
   ]
  },
  {
   "cell_type": "code",
   "execution_count": 10,
   "id": "respective-frederick",
   "metadata": {},
   "outputs": [
    {
     "name": "stdout",
     "output_type": "stream",
     "text": [
      "0 4\n",
      "1 5\n",
      "2 6\n",
      "3 7\n"
     ]
    },
    {
     "name": "stderr",
     "output_type": "stream",
     "text": [
      "^C pressed 1 times. Interrupting the solver. Press 3 times to force termination.\n"
     ]
    }
   ],
   "source": [
    "# make multiple\n",
    "for i,N in enumerate([4,5,6,7,8,9]):\n",
    "    print(i,N)\n",
    "    outdata = make_inst(N, i, N*50, N*50)\n",
    "    json.dump(outdata, fp=open(f\"instances/type21/instance{i}.json\", 'w'))"
   ]
  },
  {
   "cell_type": "code",
   "execution_count": null,
   "id": "specific-cliff",
   "metadata": {},
   "outputs": [],
   "source": []
  },
  {
   "cell_type": "code",
   "execution_count": 15,
   "id": "mobile-radio",
   "metadata": {},
   "outputs": [
    {
     "data": {
      "text/plain": [
       "{'instance': 0,\n",
       " 'tests': [],\n",
       " 'size': 4,\n",
       " 'formatTemplate': {'list': [{'high': 4, 'low': 1, 'type': 'dvar'},\n",
       "   {'high': 4, 'low': 1, 'type': 'dvar'},\n",
       "   {'high': 4, 'low': 1, 'type': 'dvar'},\n",
       "   {'high': 4, 'low': 1, 'type': 'dvar'}]},\n",
       " 'solutions': [{'list': [3, 1, 4, 2]}, {'list': [2, 4, 1, 3]}],\n",
       " 'nonSolutions': [{'list': [2, 2, 1, 1]},\n",
       "  {'list': [2, 1, 3, 2]},\n",
       "  {'list': [4, 3, 2, 3]},\n",
       "  {'list': [2, 3, 1, 1]},\n",
       "  {'list': [1, 3, 4, 2]},\n",
       "  {'list': [2, 3, 3, 4]},\n",
       "  {'list': [2, 2, 4, 4]},\n",
       "  {'list': [2, 2, 1, 3]},\n",
       "  {'list': [1, 4, 4, 4]},\n",
       "  {'list': [2, 3, 3, 3]},\n",
       "  {'list': [4, 2, 2, 4]},\n",
       "  {'list': [3, 2, 3, 3]},\n",
       "  {'list': [2, 4, 3, 1]},\n",
       "  {'list': [3, 1, 2, 4]},\n",
       "  {'list': [3, 3, 3, 1]},\n",
       "  {'list': [1, 4, 1, 3]},\n",
       "  {'list': [4, 3, 1, 3]},\n",
       "  {'list': [3, 1, 3, 4]},\n",
       "  {'list': [2, 4, 4, 3]},\n",
       "  {'list': [3, 1, 1, 4]},\n",
       "  {'list': [3, 4, 4, 2]},\n",
       "  {'list': [1, 3, 1, 1]},\n",
       "  {'list': [2, 4, 3, 2]},\n",
       "  {'list': [1, 2, 1, 2]},\n",
       "  {'list': [4, 1, 3, 2]},\n",
       "  {'list': [3, 3, 1, 3]},\n",
       "  {'list': [1, 4, 4, 1]},\n",
       "  {'list': [1, 2, 4, 3]},\n",
       "  {'list': [1, 3, 2, 2]},\n",
       "  {'list': [2, 2, 4, 2]},\n",
       "  {'list': [4, 1, 4, 1]},\n",
       "  {'list': [1, 2, 3, 2]},\n",
       "  {'list': [1, 1, 2, 1]},\n",
       "  {'list': [2, 4, 4, 2]},\n",
       "  {'list': [1, 3, 4, 3]},\n",
       "  {'list': [1, 1, 1, 2]},\n",
       "  {'list': [3, 3, 2, 1]},\n",
       "  {'list': [1, 1, 4, 2]},\n",
       "  {'list': [1, 1, 3, 3]},\n",
       "  {'list': [1, 2, 1, 1]},\n",
       "  {'list': [4, 3, 3, 4]},\n",
       "  {'list': [4, 4, 1, 4]},\n",
       "  {'list': [4, 4, 4, 2]},\n",
       "  {'list': [2, 3, 2, 2]},\n",
       "  {'list': [3, 4, 3, 2]},\n",
       "  {'list': [2, 3, 2, 1]},\n",
       "  {'list': [3, 1, 1, 3]},\n",
       "  {'list': [3, 4, 3, 1]},\n",
       "  {'list': [3, 4, 1, 3]},\n",
       "  {'list': [1, 1, 1, 4]},\n",
       "  {'list': [4, 2, 4, 2]},\n",
       "  {'list': [4, 4, 3, 1]},\n",
       "  {'list': [1, 2, 4, 2]},\n",
       "  {'list': [2, 4, 4, 4]},\n",
       "  {'list': [4, 2, 3, 1]},\n",
       "  {'list': [2, 1, 4, 1]},\n",
       "  {'list': [2, 1, 1, 3]},\n",
       "  {'list': [3, 1, 3, 2]},\n",
       "  {'list': [2, 4, 3, 3]},\n",
       "  {'list': [4, 1, 1, 2]},\n",
       "  {'list': [2, 3, 1, 4]},\n",
       "  {'list': [2, 2, 3, 1]},\n",
       "  {'list': [4, 4, 1, 1]},\n",
       "  {'list': [4, 2, 3, 2]},\n",
       "  {'list': [4, 1, 3, 3]},\n",
       "  {'list': [3, 3, 4, 2]},\n",
       "  {'list': [2, 4, 3, 4]},\n",
       "  {'list': [1, 4, 3, 4]},\n",
       "  {'list': [1, 3, 1, 3]},\n",
       "  {'list': [3, 3, 2, 3]},\n",
       "  {'list': [2, 4, 2, 1]},\n",
       "  {'list': [4, 3, 2, 2]},\n",
       "  {'list': [3, 2, 2, 3]},\n",
       "  {'list': [4, 1, 1, 1]},\n",
       "  {'list': [4, 1, 2, 2]},\n",
       "  {'list': [4, 3, 1, 1]},\n",
       "  {'list': [2, 3, 1, 2]},\n",
       "  {'list': [4, 3, 4, 4]},\n",
       "  {'list': [1, 4, 1, 4]},\n",
       "  {'list': [4, 2, 1, 4]},\n",
       "  {'list': [3, 2, 4, 2]},\n",
       "  {'list': [2, 4, 1, 1]},\n",
       "  {'list': [2, 2, 2, 3]},\n",
       "  {'list': [3, 2, 1, 2]},\n",
       "  {'list': [2, 2, 1, 2]},\n",
       "  {'list': [3, 3, 2, 4]},\n",
       "  {'list': [1, 2, 2, 3]},\n",
       "  {'list': [2, 3, 4, 3]},\n",
       "  {'list': [2, 1, 1, 2]},\n",
       "  {'list': [4, 4, 1, 2]},\n",
       "  {'list': [3, 4, 4, 1]},\n",
       "  {'list': [3, 2, 1, 4]},\n",
       "  {'list': [2, 4, 4, 1]},\n",
       "  {'list': [1, 4, 3, 2]},\n",
       "  {'list': [4, 4, 1, 3]},\n",
       "  {'list': [4, 1, 4, 3]},\n",
       "  {'list': [3, 1, 3, 1]},\n",
       "  {'list': [4, 3, 4, 2]},\n",
       "  {'list': [1, 2, 2, 4]},\n",
       "  {'list': [4, 2, 1, 3]},\n",
       "  {'list': [1, 3, 3, 2]},\n",
       "  {'list': [4, 4, 4, 1]}],\n",
       " 'problemType': 'type02'}"
      ]
     },
     "execution_count": 15,
     "metadata": {},
     "output_type": "execute_result"
    }
   ],
   "source": [
    "data = json.load(open('instances/type02/instance0.json'))\n",
    "data"
   ]
  },
  {
   "cell_type": "code",
   "execution_count": 23,
   "id": "turned-burns",
   "metadata": {},
   "outputs": [
    {
     "data": {
      "text/plain": [
       "{'instance': 0,\n",
       " 'size': 4,\n",
       " 'formatTemplate': {'board': [[{'high': 1, 'low': 0, 'type': 'dvar'},\n",
       "    {'high': 1, 'low': 0, 'type': 'dvar'},\n",
       "    {'high': 1, 'low': 0, 'type': 'dvar'},\n",
       "    {'high': 1, 'low': 0, 'type': 'dvar'}],\n",
       "   [{'high': 1, 'low': 0, 'type': 'dvar'},\n",
       "    {'high': 1, 'low': 0, 'type': 'dvar'},\n",
       "    {'high': 1, 'low': 0, 'type': 'dvar'},\n",
       "    {'high': 1, 'low': 0, 'type': 'dvar'}],\n",
       "   [{'high': 1, 'low': 0, 'type': 'dvar'},\n",
       "    {'high': 1, 'low': 0, 'type': 'dvar'},\n",
       "    {'high': 1, 'low': 0, 'type': 'dvar'},\n",
       "    {'high': 1, 'low': 0, 'type': 'dvar'}],\n",
       "   [{'high': 1, 'low': 0, 'type': 'dvar'},\n",
       "    {'high': 1, 'low': 0, 'type': 'dvar'},\n",
       "    {'high': 1, 'low': 0, 'type': 'dvar'},\n",
       "    {'high': 1, 'low': 0, 'type': 'dvar'}]]},\n",
       " 'solutions': [{'board': [[0, 0, 1, 0],\n",
       "    [1, 0, 0, 0],\n",
       "    [0, 0, 0, 1],\n",
       "    [0, 1, 0, 0]]},\n",
       "  {'board': [[0, 1, 0, 0], [0, 0, 0, 1], [1, 0, 0, 0], [0, 0, 1, 0]]}],\n",
       " 'nonSolutions': [{'board': [[0, 1, 0, 0],\n",
       "    [0, 1, 0, 0],\n",
       "    [1, 0, 0, 0],\n",
       "    [1, 0, 0, 0]]},\n",
       "  {'board': [[0, 1, 0, 0], [1, 0, 0, 0], [0, 0, 1, 0], [0, 1, 0, 0]]},\n",
       "  {'board': [[0, 0, 0, 1], [0, 0, 1, 0], [0, 1, 0, 0], [0, 0, 1, 0]]},\n",
       "  {'board': [[0, 1, 0, 0], [0, 0, 1, 0], [1, 0, 0, 0], [1, 0, 0, 0]]},\n",
       "  {'board': [[1, 0, 0, 0], [0, 0, 1, 0], [0, 0, 0, 1], [0, 1, 0, 0]]},\n",
       "  {'board': [[0, 1, 0, 0], [0, 0, 1, 0], [0, 0, 1, 0], [0, 0, 0, 1]]},\n",
       "  {'board': [[0, 1, 0, 0], [0, 1, 0, 0], [0, 0, 0, 1], [0, 0, 0, 1]]},\n",
       "  {'board': [[0, 1, 0, 0], [0, 1, 0, 0], [1, 0, 0, 0], [0, 0, 1, 0]]},\n",
       "  {'board': [[1, 0, 0, 0], [0, 0, 0, 1], [0, 0, 0, 1], [0, 0, 0, 1]]},\n",
       "  {'board': [[0, 1, 0, 0], [0, 0, 1, 0], [0, 0, 1, 0], [0, 0, 1, 0]]},\n",
       "  {'board': [[0, 0, 0, 1], [0, 1, 0, 0], [0, 1, 0, 0], [0, 0, 0, 1]]},\n",
       "  {'board': [[0, 0, 1, 0], [0, 1, 0, 0], [0, 0, 1, 0], [0, 0, 1, 0]]},\n",
       "  {'board': [[0, 1, 0, 0], [0, 0, 0, 1], [0, 0, 1, 0], [1, 0, 0, 0]]},\n",
       "  {'board': [[0, 0, 1, 0], [1, 0, 0, 0], [0, 1, 0, 0], [0, 0, 0, 1]]},\n",
       "  {'board': [[0, 0, 1, 0], [0, 0, 1, 0], [0, 0, 1, 0], [1, 0, 0, 0]]},\n",
       "  {'board': [[1, 0, 0, 0], [0, 0, 0, 1], [1, 0, 0, 0], [0, 0, 1, 0]]},\n",
       "  {'board': [[0, 0, 0, 1], [0, 0, 1, 0], [1, 0, 0, 0], [0, 0, 1, 0]]},\n",
       "  {'board': [[0, 0, 1, 0], [1, 0, 0, 0], [0, 0, 1, 0], [0, 0, 0, 1]]},\n",
       "  {'board': [[0, 1, 0, 0], [0, 0, 0, 1], [0, 0, 0, 1], [0, 0, 1, 0]]},\n",
       "  {'board': [[0, 0, 1, 0], [1, 0, 0, 0], [1, 0, 0, 0], [0, 0, 0, 1]]},\n",
       "  {'board': [[0, 0, 1, 0], [0, 0, 0, 1], [0, 0, 0, 1], [0, 1, 0, 0]]},\n",
       "  {'board': [[1, 0, 0, 0], [0, 0, 1, 0], [1, 0, 0, 0], [1, 0, 0, 0]]},\n",
       "  {'board': [[0, 1, 0, 0], [0, 0, 0, 1], [0, 0, 1, 0], [0, 1, 0, 0]]},\n",
       "  {'board': [[1, 0, 0, 0], [0, 1, 0, 0], [1, 0, 0, 0], [0, 1, 0, 0]]},\n",
       "  {'board': [[0, 0, 0, 1], [1, 0, 0, 0], [0, 0, 1, 0], [0, 1, 0, 0]]},\n",
       "  {'board': [[0, 0, 1, 0], [0, 0, 1, 0], [1, 0, 0, 0], [0, 0, 1, 0]]},\n",
       "  {'board': [[1, 0, 0, 0], [0, 0, 0, 1], [0, 0, 0, 1], [1, 0, 0, 0]]},\n",
       "  {'board': [[1, 0, 0, 0], [0, 1, 0, 0], [0, 0, 0, 1], [0, 0, 1, 0]]},\n",
       "  {'board': [[1, 0, 0, 0], [0, 0, 1, 0], [0, 1, 0, 0], [0, 1, 0, 0]]},\n",
       "  {'board': [[0, 1, 0, 0], [0, 1, 0, 0], [0, 0, 0, 1], [0, 1, 0, 0]]},\n",
       "  {'board': [[0, 0, 0, 1], [1, 0, 0, 0], [0, 0, 0, 1], [1, 0, 0, 0]]},\n",
       "  {'board': [[1, 0, 0, 0], [0, 1, 0, 0], [0, 0, 1, 0], [0, 1, 0, 0]]},\n",
       "  {'board': [[1, 0, 0, 0], [1, 0, 0, 0], [0, 1, 0, 0], [1, 0, 0, 0]]},\n",
       "  {'board': [[0, 1, 0, 0], [0, 0, 0, 1], [0, 0, 0, 1], [0, 1, 0, 0]]},\n",
       "  {'board': [[1, 0, 0, 0], [0, 0, 1, 0], [0, 0, 0, 1], [0, 0, 1, 0]]},\n",
       "  {'board': [[1, 0, 0, 0], [1, 0, 0, 0], [1, 0, 0, 0], [0, 1, 0, 0]]},\n",
       "  {'board': [[0, 0, 1, 0], [0, 0, 1, 0], [0, 1, 0, 0], [1, 0, 0, 0]]},\n",
       "  {'board': [[1, 0, 0, 0], [1, 0, 0, 0], [0, 0, 0, 1], [0, 1, 0, 0]]},\n",
       "  {'board': [[1, 0, 0, 0], [1, 0, 0, 0], [0, 0, 1, 0], [0, 0, 1, 0]]},\n",
       "  {'board': [[1, 0, 0, 0], [0, 1, 0, 0], [1, 0, 0, 0], [1, 0, 0, 0]]},\n",
       "  {'board': [[0, 0, 0, 1], [0, 0, 1, 0], [0, 0, 1, 0], [0, 0, 0, 1]]},\n",
       "  {'board': [[0, 0, 0, 1], [0, 0, 0, 1], [1, 0, 0, 0], [0, 0, 0, 1]]},\n",
       "  {'board': [[0, 0, 0, 1], [0, 0, 0, 1], [0, 0, 0, 1], [0, 1, 0, 0]]},\n",
       "  {'board': [[0, 1, 0, 0], [0, 0, 1, 0], [0, 1, 0, 0], [0, 1, 0, 0]]},\n",
       "  {'board': [[0, 0, 1, 0], [0, 0, 0, 1], [0, 0, 1, 0], [0, 1, 0, 0]]},\n",
       "  {'board': [[0, 1, 0, 0], [0, 0, 1, 0], [0, 1, 0, 0], [1, 0, 0, 0]]},\n",
       "  {'board': [[0, 0, 1, 0], [1, 0, 0, 0], [1, 0, 0, 0], [0, 0, 1, 0]]},\n",
       "  {'board': [[0, 0, 1, 0], [0, 0, 0, 1], [0, 0, 1, 0], [1, 0, 0, 0]]},\n",
       "  {'board': [[0, 0, 1, 0], [0, 0, 0, 1], [1, 0, 0, 0], [0, 0, 1, 0]]},\n",
       "  {'board': [[1, 0, 0, 0], [1, 0, 0, 0], [1, 0, 0, 0], [0, 0, 0, 1]]},\n",
       "  {'board': [[0, 0, 0, 1], [0, 1, 0, 0], [0, 0, 0, 1], [0, 1, 0, 0]]},\n",
       "  {'board': [[0, 0, 0, 1], [0, 0, 0, 1], [0, 0, 1, 0], [1, 0, 0, 0]]},\n",
       "  {'board': [[1, 0, 0, 0], [0, 1, 0, 0], [0, 0, 0, 1], [0, 1, 0, 0]]},\n",
       "  {'board': [[0, 1, 0, 0], [0, 0, 0, 1], [0, 0, 0, 1], [0, 0, 0, 1]]},\n",
       "  {'board': [[0, 0, 0, 1], [0, 1, 0, 0], [0, 0, 1, 0], [1, 0, 0, 0]]},\n",
       "  {'board': [[0, 1, 0, 0], [1, 0, 0, 0], [0, 0, 0, 1], [1, 0, 0, 0]]},\n",
       "  {'board': [[0, 1, 0, 0], [1, 0, 0, 0], [1, 0, 0, 0], [0, 0, 1, 0]]},\n",
       "  {'board': [[0, 0, 1, 0], [1, 0, 0, 0], [0, 0, 1, 0], [0, 1, 0, 0]]},\n",
       "  {'board': [[0, 1, 0, 0], [0, 0, 0, 1], [0, 0, 1, 0], [0, 0, 1, 0]]},\n",
       "  {'board': [[0, 0, 0, 1], [1, 0, 0, 0], [1, 0, 0, 0], [0, 1, 0, 0]]},\n",
       "  {'board': [[0, 1, 0, 0], [0, 0, 1, 0], [1, 0, 0, 0], [0, 0, 0, 1]]},\n",
       "  {'board': [[0, 1, 0, 0], [0, 1, 0, 0], [0, 0, 1, 0], [1, 0, 0, 0]]},\n",
       "  {'board': [[0, 0, 0, 1], [0, 0, 0, 1], [1, 0, 0, 0], [1, 0, 0, 0]]},\n",
       "  {'board': [[0, 0, 0, 1], [0, 1, 0, 0], [0, 0, 1, 0], [0, 1, 0, 0]]},\n",
       "  {'board': [[0, 0, 0, 1], [1, 0, 0, 0], [0, 0, 1, 0], [0, 0, 1, 0]]},\n",
       "  {'board': [[0, 0, 1, 0], [0, 0, 1, 0], [0, 0, 0, 1], [0, 1, 0, 0]]},\n",
       "  {'board': [[0, 1, 0, 0], [0, 0, 0, 1], [0, 0, 1, 0], [0, 0, 0, 1]]},\n",
       "  {'board': [[1, 0, 0, 0], [0, 0, 0, 1], [0, 0, 1, 0], [0, 0, 0, 1]]},\n",
       "  {'board': [[1, 0, 0, 0], [0, 0, 1, 0], [1, 0, 0, 0], [0, 0, 1, 0]]},\n",
       "  {'board': [[0, 0, 1, 0], [0, 0, 1, 0], [0, 1, 0, 0], [0, 0, 1, 0]]},\n",
       "  {'board': [[0, 1, 0, 0], [0, 0, 0, 1], [0, 1, 0, 0], [1, 0, 0, 0]]},\n",
       "  {'board': [[0, 0, 0, 1], [0, 0, 1, 0], [0, 1, 0, 0], [0, 1, 0, 0]]},\n",
       "  {'board': [[0, 0, 1, 0], [0, 1, 0, 0], [0, 1, 0, 0], [0, 0, 1, 0]]},\n",
       "  {'board': [[0, 0, 0, 1], [1, 0, 0, 0], [1, 0, 0, 0], [1, 0, 0, 0]]},\n",
       "  {'board': [[0, 0, 0, 1], [1, 0, 0, 0], [0, 1, 0, 0], [0, 1, 0, 0]]},\n",
       "  {'board': [[0, 0, 0, 1], [0, 0, 1, 0], [1, 0, 0, 0], [1, 0, 0, 0]]},\n",
       "  {'board': [[0, 1, 0, 0], [0, 0, 1, 0], [1, 0, 0, 0], [0, 1, 0, 0]]},\n",
       "  {'board': [[0, 0, 0, 1], [0, 0, 1, 0], [0, 0, 0, 1], [0, 0, 0, 1]]},\n",
       "  {'board': [[1, 0, 0, 0], [0, 0, 0, 1], [1, 0, 0, 0], [0, 0, 0, 1]]},\n",
       "  {'board': [[0, 0, 0, 1], [0, 1, 0, 0], [1, 0, 0, 0], [0, 0, 0, 1]]},\n",
       "  {'board': [[0, 0, 1, 0], [0, 1, 0, 0], [0, 0, 0, 1], [0, 1, 0, 0]]},\n",
       "  {'board': [[0, 1, 0, 0], [0, 0, 0, 1], [1, 0, 0, 0], [1, 0, 0, 0]]},\n",
       "  {'board': [[0, 1, 0, 0], [0, 1, 0, 0], [0, 1, 0, 0], [0, 0, 1, 0]]},\n",
       "  {'board': [[0, 0, 1, 0], [0, 1, 0, 0], [1, 0, 0, 0], [0, 1, 0, 0]]},\n",
       "  {'board': [[0, 1, 0, 0], [0, 1, 0, 0], [1, 0, 0, 0], [0, 1, 0, 0]]},\n",
       "  {'board': [[0, 0, 1, 0], [0, 0, 1, 0], [0, 1, 0, 0], [0, 0, 0, 1]]},\n",
       "  {'board': [[1, 0, 0, 0], [0, 1, 0, 0], [0, 1, 0, 0], [0, 0, 1, 0]]},\n",
       "  {'board': [[0, 1, 0, 0], [0, 0, 1, 0], [0, 0, 0, 1], [0, 0, 1, 0]]},\n",
       "  {'board': [[0, 1, 0, 0], [1, 0, 0, 0], [1, 0, 0, 0], [0, 1, 0, 0]]},\n",
       "  {'board': [[0, 0, 0, 1], [0, 0, 0, 1], [1, 0, 0, 0], [0, 1, 0, 0]]},\n",
       "  {'board': [[0, 0, 1, 0], [0, 0, 0, 1], [0, 0, 0, 1], [1, 0, 0, 0]]},\n",
       "  {'board': [[0, 0, 1, 0], [0, 1, 0, 0], [1, 0, 0, 0], [0, 0, 0, 1]]},\n",
       "  {'board': [[0, 1, 0, 0], [0, 0, 0, 1], [0, 0, 0, 1], [1, 0, 0, 0]]},\n",
       "  {'board': [[1, 0, 0, 0], [0, 0, 0, 1], [0, 0, 1, 0], [0, 1, 0, 0]]},\n",
       "  {'board': [[0, 0, 0, 1], [0, 0, 0, 1], [1, 0, 0, 0], [0, 0, 1, 0]]},\n",
       "  {'board': [[0, 0, 0, 1], [1, 0, 0, 0], [0, 0, 0, 1], [0, 0, 1, 0]]},\n",
       "  {'board': [[0, 0, 1, 0], [1, 0, 0, 0], [0, 0, 1, 0], [1, 0, 0, 0]]},\n",
       "  {'board': [[0, 0, 0, 1], [0, 0, 1, 0], [0, 0, 0, 1], [0, 1, 0, 0]]},\n",
       "  {'board': [[1, 0, 0, 0], [0, 1, 0, 0], [0, 1, 0, 0], [0, 0, 0, 1]]},\n",
       "  {'board': [[0, 0, 0, 1], [0, 1, 0, 0], [1, 0, 0, 0], [0, 0, 1, 0]]},\n",
       "  {'board': [[1, 0, 0, 0], [0, 0, 1, 0], [0, 0, 1, 0], [0, 1, 0, 0]]},\n",
       "  {'board': [[0, 0, 0, 1], [0, 0, 0, 1], [0, 0, 0, 1], [1, 0, 0, 0]]}],\n",
       " 'tests': []}"
      ]
     },
     "execution_count": 23,
     "metadata": {},
     "output_type": "execute_result"
    }
   ],
   "source": [
    "binData"
   ]
  },
  {
   "cell_type": "code",
   "execution_count": 30,
   "id": "automotive-fantasy",
   "metadata": {},
   "outputs": [],
   "source": [
    "# convert all from 02 to 20\n",
    "for i in range(10):\n",
    "    indata = json.load(open(f\"instances/type02/instance{i}.json\"))\n",
    "    outdata = convert_inst(indata)\n",
    "    json.dump(outdata, fp=open(f\"instances/type20/instance{i}.json\", 'w'))"
   ]
  },
  {
   "cell_type": "code",
   "execution_count": null,
   "id": "instant-bones",
   "metadata": {},
   "outputs": [],
   "source": []
  }
 ],
 "metadata": {
  "kernelspec": {
   "display_name": "Python 3",
   "language": "python",
   "name": "python3"
  },
  "language_info": {
   "codemirror_mode": {
    "name": "ipython",
    "version": 3
   },
   "file_extension": ".py",
   "mimetype": "text/x-python",
   "name": "python",
   "nbconvert_exporter": "python",
   "pygments_lexer": "ipython3",
   "version": "3.8.10"
  }
 },
 "nbformat": 4,
 "nbformat_minor": 5
}
